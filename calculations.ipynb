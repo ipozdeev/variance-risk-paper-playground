{
 "cells": [
  {
   "cell_type": "code",
   "execution_count": null,
   "metadata": {},
   "outputs": [],
   "source": [
    "import pandas as pd\n",
    "import numpy as np\n",
    "import matplotlib.pyplot as plt\n",
    "import seaborn as sns\n",
    "\n",
    "import paper_vrp_mini as research\n",
    "\n",
    "# for plotting\n",
    "from paper_vrp_mini.visuals import *\n",
    "set_visuals()\n"
   ]
  },
  {
   "cell_type": "code",
   "execution_count": null,
   "metadata": {},
   "outputs": [],
   "source": [
    "# display plots inline\n",
    "%matplotlib inline"
   ]
  },
  {
   "cell_type": "code",
   "execution_count": null,
   "metadata": {},
   "outputs": [],
   "source": [
    "# ResearchData provides the database for stuff related to the paper;\n",
    "# initialize it with a correct path\n",
    "hangar = research.ResearchData(\"../vrp_paper_hangar_mini.h5\")"
   ]
  },
  {
   "cell_type": "markdown",
   "metadata": {},
   "source": [
    "# Example 1: covariance matrix from a row of variances"
   ]
  },
  {
   "cell_type": "code",
   "execution_count": null,
   "metadata": {},
   "outputs": [],
   "source": [
    "# parameters\n",
    "horizon_s = \"3m\"\n",
    "counter_currency = \"usd\"\n",
    "row_idx = \"2015-01-14\""
   ]
  },
  {
   "cell_type": "code",
   "execution_count": null,
   "metadata": {},
   "outputs": [],
   "source": [
    "# fetch MFIV from the database, take one row\n",
    "mfiv = hangar.get(\"mfiv/m\" + horizon_s)\n",
    "mfiv_row = mfiv.loc[row_idx]"
   ]
  },
  {
   "cell_type": "code",
   "execution_count": null,
   "metadata": {},
   "outputs": [],
   "source": [
    "# calculate\n",
    "mficov = research.fx_covmat_from_variances(mfiv_row, \n",
    "                                           counter_currency)"
   ]
  },
  {
   "cell_type": "code",
   "execution_count": null,
   "metadata": {},
   "outputs": [],
   "source": [
    "# plot as heatmap\n",
    "fig, ax = plt.subplots(figsize=visuals.figsize_2, facecolor='w')\n",
    "sns.heatmap(mficov.pow(1/2)*100, \n",
    "            ax=ax, annot=True, fmt=\".2f\", square=False, \n",
    "            cmap=visuals.heatmap_cmap)"
   ]
  },
  {
   "cell_type": "markdown",
   "metadata": {},
   "source": [
    "# Example 2: from covariance matrix to variance of a currency portfolio"
   ]
  },
  {
   "cell_type": "code",
   "execution_count": null,
   "metadata": {},
   "outputs": [],
   "source": [
    "# define weights of currencies\n",
    "portfolio = pd.Series({\"aud\": 1/3, \"nzd\": 1/3, \"cad\": 1/3, \n",
    "                       \"jpy\": -1/3, \"chf\": -1/3, \"eur\": -1/3})\n",
    "\n",
    "# reindex to follow the layout of the covariance matrix\n",
    "portfolio = portfolio.reindex(mficov.columns, fill_value=0.0)\n",
    "\n",
    "# convert to CovarianceDataFrame for easier manipulations\n",
    "mficov_c = research.CovarianceDataFrame(mficov)\n",
    "\n",
    "# calculate variance as a quadratic form\n",
    "portfolio_var = mficov_c.quadratic_form(other=portfolio,\n",
    "                                        trim=True)"
   ]
  },
  {
   "cell_type": "code",
   "execution_count": null,
   "metadata": {},
   "outputs": [],
   "source": [
    "# plot the portfolio variance along individual variances \n",
    "# (i.e. variances of appreciation rates vs. USD)\n",
    "to_plot = mficov_c.get_variances()\\\n",
    "    .assign(carry=portfolio_var)\\\n",
    "    .iloc[0]\\\n",
    "    .pow(1/2) * 100\n",
    "    \n",
    "fig, ax = plt.subplots(figsize=visuals.figsize_1, facecolor='w')\n",
    "to_plot.plot(ax=ax, linestyle=\"none\", marker='o')\n",
    "ax.set_xticks(range(len(to_plot)))\n",
    "ax.set_xticklabels(to_plot.index)"
   ]
  },
  {
   "cell_type": "markdown",
   "metadata": {},
   "source": [
    "# Figure 3: Eigendecomposition of variance swap payoff structure matrices"
   ]
  },
  {
   "cell_type": "code",
   "execution_count": null,
   "metadata": {},
   "outputs": [],
   "source": [
    "# set up research environment:\n",
    "currencies = [\"aud\", \"cad\", \"chf\", \"eur\", \"gbp\", \"jpy\", \"nzd\", \"usd\"]\n",
    "counter_currency = \"usd\"\n",
    "start_dt, end_dt = \"2009-01-14\", \"2018-06-30\"\n",
    "\n",
    "env = research.ResearchUniverse(\n",
    "    hangar, currencies, counter_currency, start_dt, end_dt\n",
    ")"
   ]
  },
  {
   "cell_type": "code",
   "execution_count": null,
   "metadata": {},
   "outputs": [],
   "source": [
    "# functions to perform eigendecomposition\n",
    "def get_eigvectors(vcv):\n",
    "    \"\"\"Calculate eigenvectors.\n",
    "    Sorts eigenvectors by the size of their eigenvalues.\n",
    "    \n",
    "    Returns\n",
    "    -------\n",
    "    res : pandas.DataFrame\n",
    "        matrix with eigenvectors in rows, columned just like `vcv`\n",
    "    \"\"\"\n",
    "    eigval, eigvec = np.linalg.eig(vcv.values)\n",
    "    arg_sort = np.argsort(np.real(eigval))\n",
    "    \n",
    "    loadings = pd.DataFrame(\n",
    "        data=eigvec[:, arg_sort],\n",
    "        index=vcv.columns,\n",
    "        columns=range(1, len(eigval) + 1))\n",
    "\n",
    "    res = loadings.T\n",
    "\n",
    "    return res\n",
    "\n",
    "def get_eigvalues(vcv):\n",
    "    \"\"\"Calculate eigenvalues.\n",
    "    Sorts the eigenvalues.\n",
    "    \n",
    "    Returns\n",
    "    -------\n",
    "    res : pandas.Series\n",
    "        of eigenvalues, sorted\n",
    "    \"\"\"\n",
    "    eigval = np.linalg.eigvals(vcv.values)\n",
    "\n",
    "    res = pd.Series(\n",
    "        np.sort(eigval),\n",
    "        index=range(1, len(eigval) + 1))\n",
    "\n",
    "    return res"
   ]
  },
  {
   "cell_type": "code",
   "execution_count": null,
   "metadata": {},
   "outputs": [],
   "source": [
    "# fetch mficovariance and realized covariance\n",
    "h = \"3m\"\n",
    "mficov = env.get_mficov(h)\n",
    "rcov = env.get_rcov(h, look=\"forward\")"
   ]
  },
  {
   "cell_type": "code",
   "execution_count": null,
   "metadata": {},
   "outputs": [],
   "source": [
    "# synthetic variance swap payoffs structure matrices\n",
    "vs_p = rcov - mficov\n",
    "vs_p = vs_p.dropna(how=\"any\")"
   ]
  },
  {
   "cell_type": "code",
   "execution_count": null,
   "metadata": {},
   "outputs": [],
   "source": [
    "# calculate loadings and variance risk premia of corresponding\n",
    "#   portfolios\n",
    "eigvec = vs_p.groupby_time().apply(get_eigvectors)\n",
    "eigval = vs_p.groupby_time().apply(get_eigvalues)"
   ]
  },
  {
   "cell_type": "code",
   "execution_count": null,
   "metadata": {},
   "outputs": [],
   "source": [
    "# make loading of AUD be always positive\n",
    "#   (switching the sign of any eigenvector leaves \n",
    "#   vr premium unchanged)\n",
    "idx_aud_neg = eigvec.loc[:, \"aud\"] < 0\n",
    "eigvec.loc[idx_aud_neg, :] = eigvec.loc[idx_aud_neg, :]*-1"
   ]
  },
  {
   "cell_type": "code",
   "execution_count": null,
   "metadata": {},
   "outputs": [],
   "source": [
    "# calculate average values of loadings and vr premia\n",
    "eigvec_mu = eigvec\\\n",
    "    .unstack(level=1)\\\n",
    "    .mean()\\\n",
    "    .unstack(level=0)\n",
    "eigval_mu = eigval.mean().to_frame()"
   ]
  },
  {
   "cell_type": "code",
   "execution_count": null,
   "metadata": {},
   "outputs": [],
   "source": [
    "# plot (requires seaborn)\n",
    "fig, ax = plt.subplots(1, 2, figsize=figsize_1,\n",
    "                       gridspec_kw={'width_ratios': [10, 1]},\n",
    "                       sharex=False, sharey=False)\n",
    "\n",
    "# plot eigvectors\n",
    "sns.heatmap(eigvec_mu, ax=ax[0], cmap=heatmap_cmap, \n",
    "            square=False, linewidths=0.5, \n",
    "            center=0, vmin=-0.5, vmax=0.5,\n",
    "            annot=True, fmt=\".2f\", annot_kws={\"fontsize\": 9},\n",
    "            cbar_kws={'label': 'portfolio weight',\n",
    "                      \"format\": \"%.1f\"})\n",
    "\n",
    "# plot eigvalues (vr premium)\n",
    "sns.heatmap(eigval_mu * 1e04, ax=ax[1], cmap=heatmap_cmap,\n",
    "            square=False, linewidths=0.5,\n",
    "            center=0, \n",
    "            annot=True, fmt=\".0f\", annot_kws={\"fontsize\": 9},\n",
    "            cbar=False)\n",
    "\n",
    "# aestetics\n",
    "ax[0].set_yticklabels(ax[0].get_yticklabels(), rotation=\"horizontal\",\n",
    "                      va='center', minor=False)\n",
    "ax[0].set_xlabel(\"\", visible=False)\n",
    "ax[0].set_ylabel(\"portfolio\")\n",
    "ax[1].set_xlabel(\"\", visible=False)\n",
    "\n",
    "ax[1].set_xticklabels([r\"$vs$\"], ha='center')\n",
    "ax[1].yaxis.tick_right()\n",
    "ax[1].yaxis.set_visible(False)\n",
    "ax[1].set_yticklabels([])\n",
    "\n",
    "fig.tight_layout()"
   ]
  }
 ],
 "metadata": {
  "kernelspec": {
   "display_name": "Python 3",
   "language": "python",
   "name": "python3"
  },
  "language_info": {
   "codemirror_mode": {
    "name": "ipython",
    "version": 3
   },
   "file_extension": ".py",
   "mimetype": "text/x-python",
   "name": "python",
   "nbconvert_exporter": "python",
   "pygments_lexer": "ipython3",
   "version": "3.5.4"
  }
 },
 "nbformat": 4,
 "nbformat_minor": 1
}
