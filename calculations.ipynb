{
 "cells": [
  {
   "cell_type": "code",
   "execution_count": null,
   "metadata": {
    "collapsed": true
   },
   "outputs": [],
   "source": [
    "import pandas as pd\n",
    "import numpy as np\n",
    "import matplotlib.pyplot as plt\n",
    "import seaborn as sns\n",
    "\n",
    "import paper_vrp_mini as research\n",
    "\n",
    "# for plotting\n",
    "from paper_vrp_mini import visuals\n",
    "visuals.set_visuals()\n"
   ]
  },
  {
   "cell_type": "code",
   "execution_count": null,
   "metadata": {
    "collapsed": true
   },
   "outputs": [],
   "source": [
    "# display plots inline\n",
    "%matplotlib inline"
   ]
  },
  {
   "cell_type": "code",
   "execution_count": null,
   "metadata": {},
   "outputs": [],
   "source": [
    "# ResearchData provides the database for stuff related to the paper;\n",
    "# initialize it with a correct path\n",
    "hangar = research.ResearchData(\"../vrp_paper_hangar_mini.h5\")"
   ]
  },
  {
   "cell_type": "markdown",
   "metadata": {},
   "source": [
    "# Example 1: covariance matrix from a row of variances"
   ]
  },
  {
   "cell_type": "code",
   "execution_count": null,
   "metadata": {
    "collapsed": true
   },
   "outputs": [],
   "source": [
    "# parameters\n",
    "horizon_s = \"3m\"\n",
    "counter_currency = \"usd\"\n",
    "row_idx = \"2015-01-14\""
   ]
  },
  {
   "cell_type": "code",
   "execution_count": null,
   "metadata": {},
   "outputs": [],
   "source": [
    "# fetch MFIV from the database, take one row\n",
    "mfiv = hangar.get(\"mfiv/m\" + horizon_s)\n",
    "mfiv_row = mfiv.loc[row_idx]"
   ]
  },
  {
   "cell_type": "code",
   "execution_count": null,
   "metadata": {
    "collapsed": true
   },
   "outputs": [],
   "source": [
    "# calculate\n",
    "mficov = research.fx_covmat_from_variances(mfiv_row, \n",
    "                                           counter_currency)"
   ]
  },
  {
   "cell_type": "code",
   "execution_count": null,
   "metadata": {},
   "outputs": [],
   "source": [
    "# plot as heatmap\n",
    "fig, ax = plt.subplots(figsize=visuals.figsize_2, facecolor='w')\n",
    "sns.heatmap(mficov.pow(1/2)*100, \n",
    "            ax=ax, annot=True, fmt=\".2f\", square=False, \n",
    "            cmap=visuals.heatmap_cmap)"
   ]
  },
  {
   "cell_type": "markdown",
   "metadata": {},
   "source": [
    "# Example 2: from covariance matrix to variance of a currency portfolio"
   ]
  },
  {
   "cell_type": "code",
   "execution_count": null,
   "metadata": {
    "collapsed": true
   },
   "outputs": [],
   "source": [
    "# define weights of currencies\n",
    "portfolio = pd.Series({\"aud\": 1/3, \"nzd\": 1/3, \"cad\": 1/3, \n",
    "                       \"jpy\": -1/3, \"chf\": -1/3, \"eur\": -1/3})\n",
    "\n",
    "# reindex to follow the layout of the covariance matrix\n",
    "portfolio = portfolio.reindex(mficov.columns, fill_value=0.0)\n",
    "\n",
    "# convert to CovarianceDataFrame for easier manipulations\n",
    "mficov_c = research.CovarianceDataFrame(mficov)\n",
    "\n",
    "# calculate variance as a quadratic form\n",
    "portfolio_var = mficov_c.quadratic_form(other=portfolio,\n",
    "                                        trim=True)"
   ]
  },
  {
   "cell_type": "code",
   "execution_count": null,
   "metadata": {},
   "outputs": [],
   "source": [
    "# plot the portfolio variance along individual variances \n",
    "# (i.e. variances of appreciation rates vs. USD)\n",
    "to_plot = mficov_c.get_variances()\\\n",
    "    .assign(carry=portfolio_var)\\\n",
    "    .iloc[0]\\\n",
    "    .pow(1/2) * 100\n",
    "    \n",
    "fig, ax = plt.subplots(figsize=visuals.figsize_1, facecolor='w')\n",
    "to_plot.plot(ax=ax, linestyle=\"none\", marker='o')\n",
    "ax.set_xticks(range(len(to_plot)))\n",
    "ax.set_xticklabels(to_plot.index)"
   ]
  }
 ],
 "metadata": {
  "kernelspec": {
   "display_name": "Python 3",
   "language": "python",
   "name": "python3"
  },
  "language_info": {
   "codemirror_mode": {
    "name": "ipython",
    "version": 3
   },
   "file_extension": ".py",
   "mimetype": "text/x-python",
   "name": "python",
   "nbconvert_exporter": "python",
   "pygments_lexer": "ipython3",
   "version": "3.5.4"
  }
 },
 "nbformat": 4,
 "nbformat_minor": 1
}
